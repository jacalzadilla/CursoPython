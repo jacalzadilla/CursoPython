{
 "cells": [
  {
   "cell_type": "code",
   "execution_count": 2,
   "id": "f9fa47d7",
   "metadata": {},
   "outputs": [],
   "source": [
    "import pandas as pd\n",
    "import numpy as np\n",
    "#from scipy.stats import shapiro, mannwhitneyu, kruskal\n",
    "import seaborn as sns\n",
    "import matplotlib.pyplot as plt\n",
    "import os\n",
    "#import scikit_posthocs as sp\n",
    "from scipy import stats\n",
    "import statsmodels.api as sm\n",
    "import numpy as np"
   ]
  },
  {
   "cell_type": "code",
   "execution_count": 3,
   "id": "d185457b",
   "metadata": {},
   "outputs": [],
   "source": [
    "path=os.getcwd()\n",
    "data_path = os.path.join(path, 'data')\n",
    "df=pd.read_csv(os.path.join(data_path, 'Terminos_lagoon_TA_DIC_2023_RawData.csv'))\n",
    "\n",
    "columnas=[df.columns]"
   ]
  },
  {
   "cell_type": "code",
   "execution_count": 5,
   "id": "40c138e7",
   "metadata": {},
   "outputs": [
    {
     "data": {
      "image/png": "[encoded data removed]",
      "text/plain": [
       "<Figure size 600x400 with 1 Axes>"
      ]
     },
     "metadata": {},
     "output_type": "display_data"
    },
    {
     "name": "stdout",
     "output_type": "stream",
     "text": [
      "Slope: 0.9329743239047245\n"
     ]
    }
   ],
   "source": [
    "x = df['ta_micromol_kg']\n",
    "y = df['dic_micromol_kg']\n",
    "\n",
    "plt.scatter(x, y, label='original data')\n",
    "\n",
    "# Add labels and title\n",
    "plt.xlabel('TA ($\\mu mol  \\; kg^{-1}$)', fontsize = 12, )\n",
    "plt.ylabel('DIC ($\\mu mol  \\; kg^{-1}$)', fontsize = 12)\n",
    "\n",
    "# Calculate the linear regression line\n",
    "slope, intercept, r_value, p_value, std_err = stats.linregress(x, y)\n",
    "\n",
    "# Plot linear regression \n",
    "\n",
    "plt.plot(x, intercept + slope*x, 'r', label='fitted line')\n",
    "\n",
    "# set the figure size\n",
    "plt.gcf().set_size_inches(6, 4)\n",
    "\n",
    "# save the plot as a PDF file paper format \n",
    "import os\n",
    "output_dir = '../output_files'\n",
    "os.makedirs(output_dir, exist_ok=True)\n",
    "plt.savefig(os.path.join(output_dir, 'DIC_TA_pH.pdf'), dpi=300, bbox_inches='tight')\n",
    "\n",
    "\n",
    "plt.show()\n",
    "\n",
    "print('Slope:', slope)"
   ]
  },
  {
   "cell_type": "code",
   "execution_count": 6,
   "id": "95a21155",
   "metadata": {},
   "outputs": [
    {
     "name": "stdout",
     "output_type": "stream",
     "text": [
      "r-squared: 0.7784247010713174\n",
      "p_value: 8.179416835110045e-36\n",
      "slope: 0.9329743239047245\n",
      "intercept: 80.30614134209554\n"
     ]
    }
   ],
   "source": [
    "print(\"r-squared:\", r_value**2)\n",
    "print(\"p_value:\", p_value)\n",
    "print(\"slope:\", slope)\n",
    "print(\"intercept:\", intercept)"
   ]
  },
  {
   "cell_type": "code",
   "execution_count": 7,
   "id": "3c3fc061",
   "metadata": {},
   "outputs": [
    {
     "name": "stdout",
     "output_type": "stream",
     "text": [
      "                            OLS Regression Results                            \n",
      "==============================================================================\n",
      "Dep. Variable:        dic_micromol_kg   R-squared:                       0.778\n",
      "Model:                            OLS   Adj. R-squared:                  0.776\n",
      "Method:                 Least Squares   F-statistic:                     365.4\n",
      "Date:                Thu, 04 Sep 2025   Prob (F-statistic):           8.18e-36\n",
      "Time:                        13:06:08   Log-Likelihood:                -728.75\n",
      "No. Observations:                 106   AIC:                             1462.\n",
      "Df Residuals:                     104   BIC:                             1467.\n",
      "Df Model:                           1                                         \n",
      "Covariance Type:            nonrobust                                         \n",
      "==================================================================================\n",
      "                     coef    std err          t      P>|t|      [0.025      0.975]\n",
      "----------------------------------------------------------------------------------\n",
      "const             80.3061    144.021      0.558      0.578    -205.292     365.905\n",
      "ta_micromol_kg     0.9330      0.049     19.115      0.000       0.836       1.030\n",
      "==============================================================================\n",
      "Omnibus:                       62.113   Durbin-Watson:                   1.542\n",
      "Prob(Omnibus):                  0.000   Jarque-Bera (JB):              263.618\n",
      "Skew:                          -2.001   Prob(JB):                     5.70e-58\n",
      "Kurtosis:                       9.608   Cond. No.                     1.85e+04\n",
      "==============================================================================\n",
      "\n",
      "Notes:\n",
      "[1] Standard Errors assume that the covariance matrix of the errors is correctly specified.\n",
      "[2] The condition number is large, 1.85e+04. This might indicate that there are\n",
      "strong multicollinearity or other numerical problems.\n"
     ]
    }
   ],
   "source": [
    "# Define the independent and dependent variables\n",
    "x = df['ta_micromol_kg']\n",
    "y = df['dic_micromol_kg']\n",
    "\n",
    "# Add a constant to include the intercept in the model\n",
    "# This step is necessary; otherwise, the regression will be forced through the origin (intercept = 0)\n",
    "x = sm.add_constant(x)\n",
    "\n",
    "# Fit the Ordinary Least Squares (OLS) linear regression model\n",
    "model = sm.OLS(y, x).fit()\n",
    "\n",
    "# Display the model summary\n",
    "print(model.summary())"
   ]
  },
  {
   "cell_type": "code",
   "execution_count": 8,
   "id": "df96cdbe",
   "metadata": {},
   "outputs": [
    {
     "name": "stdout",
     "output_type": "stream",
     "text": [
      "\n",
      "=== MODEL INTERPRETATION ===\n",
      "\n",
      "R² = 0.778\n",
      "✔️ Good model fit: Explains most of the variance.\n",
      "\n",
      "Coefficients:\n",
      "- const: Coef = 80.3061, p = 0.5783 → ⚠️ Not significant (p ≥ 0.05)\n",
      "- ta_micromol_kg: Coef = 0.9330, p = 0.0000 → ✔️ Significant (p < 0.05)\n",
      "\n",
      "Slope (ta_micromol_kg): 0.9330, p = 0.0000 → ✔️ Significant\n",
      "\n",
      "Standard Error of the model: 236.4180\n"
     ]
    }
   ],
   "source": [
    "print(\"\\n=== MODEL INTERPRETATION ===\\n\")\n",
    "\n",
    "# R-squared and fit quality\n",
    "r2 = model.rsquared\n",
    "fit_quality = (\n",
    "    \"✔️ Good model fit: Explains most of the variance.\" if r2 >= 0.7 else\n",
    "    \"⚠️ Moderate model fit: Explains part of the variance.\" if r2 >= 0.4 else\n",
    "    \"❌ Weak model fit: Explains little variance. Review your model.\"\n",
    ")\n",
    "print(f\"R² = {r2:.3f}\\n{fit_quality}\")\n",
    "\n",
    "# Coefficients and p-values\n",
    "results = model.summary2().tables[1]\n",
    "slope_var = results.index.drop('const')[0]  # Assuming one predictor\n",
    "\n",
    "print(\"\\nCoefficients:\")\n",
    "for var, row in results.iterrows():\n",
    "    coef, pval = row['Coef.'], row['P>|t|']\n",
    "    significance = \"✔️ Significant (p < 0.05)\" if pval < 0.05 else \"⚠️ Not significant (p ≥ 0.05)\"\n",
    "    print(f\"- {var}: Coef = {coef:.4f}, p = {pval:.4f} → {significance}\")\n",
    "\n",
    "# Slope interpretation\n",
    "slope_coef, slope_pval = results.loc[slope_var, ['Coef.', 'P>|t|']]\n",
    "print(f\"\\nSlope ({slope_var}): {slope_coef:.4f}, p = {slope_pval:.4f} → \"\n",
    "      f\"{'✔️ Significant' if slope_pval < 0.05 else '⚠️ Not significant'}\")\n",
    "\n",
    "# Standard Error\n",
    "print(f\"\\nStandard Error of the model: {np.sqrt(model.scale):.4f}\")"
   ]
  },
  {
   "cell_type": "markdown",
   "id": "ae76efb1",
   "metadata": {},
   "source": [
    "## Respuesta de las tareas"
   ]
  },
  {
   "cell_type": "markdown",
   "id": "e37639f8",
   "metadata": {},
   "source": [
    "### Salinity vs Temperature"
   ]
  },
  {
   "cell_type": "code",
   "execution_count": 10,
   "id": "01baf8e5",
   "metadata": {},
   "outputs": [
    {
     "data": {
      "image/png": "[encoded data removed]",
      "text/plain": [
       "<Figure size 600x400 with 1 Axes>"
      ]
     },
     "metadata": {},
     "output_type": "display_data"
    },
    {
     "name": "stdout",
     "output_type": "stream",
     "text": [
      "Slope: -0.028458717486946162\n"
     ]
    }
   ],
   "source": [
    "x = df['sal_psu']\n",
    "y = df['temp_c']\n",
    "\n",
    "plt.scatter(x, y, label='original data')\n",
    "    \n",
    "# Add labels and title\n",
    "plt.xlabel('SAL (PSU)', fontsize = 12, )\n",
    "plt.ylabel('TEMP (°C)', fontsize = 12)\n",
    "\n",
    "# Calculate the linear regression line\n",
    "slope, intercept, r_value, p_value, std_err = stats.linregress(x, y)\n",
    "\n",
    "# Plot linear regression \n",
    "\n",
    "plt.plot(x, intercept + slope*x, 'r', label='fitted line')\n",
    "\n",
    "# set the figure size\n",
    "plt.gcf().set_size_inches(6, 4)\n",
    "\n",
    "# save the plot as a PDF file paper format \n",
    "import os\n",
    "output_dir = os.path.join(path, 'output')\n",
    "os.makedirs(output_dir, exist_ok=True)\n",
    "plt.savefig(os.path.join(output_dir, 'SAL_TEMP.pdf'), dpi=300, bbox_inches='tight')\n",
    "\n",
    "\n",
    "plt.show()\n",
    "\n",
    "print('Slope:', slope)"
   ]
  },
  {
   "cell_type": "code",
   "execution_count": 11,
   "id": "7a9c108f",
   "metadata": {},
   "outputs": [
    {
     "name": "stdout",
     "output_type": "stream",
     "text": [
      "                            OLS Regression Results                            \n",
      "==============================================================================\n",
      "Dep. Variable:                 temp_c   R-squared:                       0.177\n",
      "Model:                            OLS   Adj. R-squared:                  0.170\n",
      "Method:                 Least Squares   F-statistic:                     22.44\n",
      "Date:              jue., 04 sep. 2025   Prob (F-statistic):           6.88e-06\n",
      "Time:                        13:22:39   Log-Likelihood:                -130.39\n",
      "No. Observations:                 106   AIC:                             264.8\n",
      "Df Residuals:                     104   BIC:                             270.1\n",
      "Df Model:                           1                                         \n",
      "Covariance Type:            nonrobust                                         \n",
      "==============================================================================\n",
      "                 coef    std err          t      P>|t|      [0.025      0.975]\n",
      "------------------------------------------------------------------------------\n",
      "const         27.2520      0.132    206.412      0.000      26.990      27.514\n",
      "sal_psu       -0.0285      0.006     -4.737      0.000      -0.040      -0.017\n",
      "==============================================================================\n",
      "Omnibus:                       10.808   Durbin-Watson:                   0.642\n",
      "Prob(Omnibus):                  0.004   Jarque-Bera (JB):               11.170\n",
      "Skew:                           0.681   Prob(JB):                      0.00375\n",
      "Kurtosis:                       3.822   Cond. No.                         35.8\n",
      "==============================================================================\n",
      "\n",
      "Notes:\n",
      "[1] Standard Errors assume that the covariance matrix of the errors is correctly specified.\n"
     ]
    }
   ],
   "source": [
    "# Define the independent and dependent variables\n",
    "x = df['sal_psu']\n",
    "y = df['temp_c']\n",
    "\n",
    "# Add a constant to include the intercept in the model\n",
    "# This step is necessary; otherwise, the regression will be forced through the origin (intercept = 0)\n",
    "x = sm.add_constant(x)\n",
    "\n",
    "# Fit the Ordinary Least Squares (OLS) linear regression model\n",
    "model = sm.OLS(y, x).fit()\n",
    "\n",
    "# Display the model summary\n",
    "print(model.summary())"
   ]
  },
  {
   "cell_type": "code",
   "execution_count": 12,
   "id": "077d6ad5",
   "metadata": {},
   "outputs": [
    {
     "name": "stdout",
     "output_type": "stream",
     "text": [
      "\n",
      "=== MODEL INTERPRETATION ===\n",
      "\n",
      "R² = 0.177\n",
      "❌ Weak model fit: Explains little variance. Review your model.\n",
      "\n",
      "Coefficients:\n",
      "- const: Coef = 27.2520, p = 0.0000 → ✔️ Significant (p < 0.05)\n",
      "- sal_psu: Coef = -0.0285, p = 0.0000 → ✔️ Significant (p < 0.05)\n",
      "\n",
      "Slope (sal_psu): -0.0285, p = 0.0000 → ✔️ Significant\n",
      "\n",
      "Standard Error of the model: 0.8359\n"
     ]
    }
   ],
   "source": [
    "print(\"\\n=== MODEL INTERPRETATION ===\\n\")\n",
    "\n",
    "# R-squared and fit quality\n",
    "r2 = model.rsquared\n",
    "fit_quality = (\n",
    "    \"✔️ Good model fit: Explains most of the variance.\" if r2 >= 0.7 else\n",
    "    \"⚠️ Moderate model fit: Explains part of the variance.\" if r2 >= 0.4 else\n",
    "    \"❌ Weak model fit: Explains little variance. Review your model.\"\n",
    ")\n",
    "print(f\"R² = {r2:.3f}\\n{fit_quality}\")\n",
    "\n",
    "# Coefficients and p-values\n",
    "results = model.summary2().tables[1]\n",
    "slope_var = results.index.drop('const')[0]  # Assuming one predictor\n",
    "\n",
    "print(\"\\nCoefficients:\")\n",
    "for var, row in results.iterrows():\n",
    "    coef, pval = row['Coef.'], row['P>|t|']\n",
    "    significance = \"✔️ Significant (p < 0.05)\" if pval < 0.05 else \"⚠️ Not significant (p ≥ 0.05)\"\n",
    "    print(f\"- {var}: Coef = {coef:.4f}, p = {pval:.4f} → {significance}\")\n",
    "\n",
    "# Slope interpretation\n",
    "slope_coef, slope_pval = results.loc[slope_var, ['Coef.', 'P>|t|']]\n",
    "print(f\"\\nSlope ({slope_var}): {slope_coef:.4f}, p = {slope_pval:.4f} → \"\n",
    "      f\"{'✔️ Significant' if slope_pval < 0.05 else '⚠️ Not significant'}\")\n",
    "\n",
    "# Standard Error\n",
    "print(f\"\\nStandard Error of the model: {np.sqrt(model.scale):.4f}\")"
   ]
  },
  {
   "cell_type": "markdown",
   "id": "58dd8738",
   "metadata": {},
   "source": [
    "### Dec vs Salinity"
   ]
  },
  {
   "cell_type": "code",
   "execution_count": 13,
   "id": "a03dbb73",
   "metadata": {},
   "outputs": [
    {
     "data": {
      "image/png": "[encoded data removed]",
      "text/plain": [
       "<Figure size 600x400 with 1 Axes>"
      ]
     },
     "metadata": {},
     "output_type": "display_data"
    },
    {
     "name": "stdout",
     "output_type": "stream",
     "text": [
      "Slope: -0.015537057058518267\n"
     ]
    }
   ],
   "source": [
    "x = df['dic_micromol_kg']\n",
    "y = df['sal_psu']\n",
    "\n",
    "plt.scatter(x, y, label='original data')\n",
    "    \n",
    "# Add labels and title\n",
    "plt.xlabel('DIC ($\\mu mol  \\; kg^{-1}$)', fontsize = 12, )\n",
    "plt.ylabel('SAL (PSU)', fontsize = 12)\n",
    "\n",
    "# Calculate the linear regression line\n",
    "slope, intercept, r_value, p_value, std_err = stats.linregress(x, y)\n",
    "\n",
    "# Plot linear regression \n",
    "\n",
    "plt.plot(x, intercept + slope*x, 'r', label='fitted line')\n",
    "\n",
    "# set the figure size\n",
    "plt.gcf().set_size_inches(6, 4)\n",
    "\n",
    "# save the plot as a PDF file paper format \n",
    "import os\n",
    "output_dir = os.path.join(path, 'output')\n",
    "os.makedirs(output_dir, exist_ok=True)\n",
    "plt.savefig(os.path.join(output_dir, 'DIC_SAL.pdf'), dpi=300, bbox_inches='tight')\n",
    "\n",
    "\n",
    "plt.show()\n",
    "\n",
    "print('Slope:', slope)"
   ]
  },
  {
   "cell_type": "code",
   "execution_count": 14,
   "id": "330ff51c",
   "metadata": {},
   "outputs": [
    {
     "name": "stdout",
     "output_type": "stream",
     "text": [
      "                            OLS Regression Results                            \n",
      "==============================================================================\n",
      "Dep. Variable:                sal_psu   R-squared:                       0.327\n",
      "Model:                            OLS   Adj. R-squared:                  0.321\n",
      "Method:                 Least Squares   F-statistic:                     50.56\n",
      "Date:              jue., 04 sep. 2025   Prob (F-statistic):           1.51e-10\n",
      "Time:                        13:25:35   Log-Likelihood:                -405.41\n",
      "No. Observations:                 106   AIC:                             814.8\n",
      "Df Residuals:                     104   BIC:                             820.2\n",
      "Df Model:                           1                                         \n",
      "Covariance Type:            nonrobust                                         \n",
      "===================================================================================\n",
      "                      coef    std err          t      P>|t|      [0.025      0.975]\n",
      "-----------------------------------------------------------------------------------\n",
      "const              60.8044      6.210      9.791      0.000      48.490      73.119\n",
      "dic_micromol_kg    -0.0155      0.002     -7.110      0.000      -0.020      -0.011\n",
      "==============================================================================\n",
      "Omnibus:                       60.706   Durbin-Watson:                   0.538\n",
      "Prob(Omnibus):                  0.000   Jarque-Bera (JB):                8.897\n",
      "Skew:                          -0.290   Prob(JB):                       0.0117\n",
      "Kurtosis:                       1.704   Cond. No.                     1.62e+04\n",
      "==============================================================================\n",
      "\n",
      "Notes:\n",
      "[1] Standard Errors assume that the covariance matrix of the errors is correctly specified.\n",
      "[2] The condition number is large, 1.62e+04. This might indicate that there are\n",
      "strong multicollinearity or other numerical problems.\n"
     ]
    }
   ],
   "source": [
    "# Define the independent and dependent variables\n",
    "x = df['dic_micromol_kg']\n",
    "y = df['sal_psu']\n",
    "\n",
    "# Add a constant to include the intercept in the model\n",
    "# This step is necessary; otherwise, the regression will be forced through the origin (intercept = 0)\n",
    "x = sm.add_constant(x)\n",
    "\n",
    "# Fit the Ordinary Least Squares (OLS) linear regression model\n",
    "model = sm.OLS(y, x).fit()\n",
    "\n",
    "# Display the model summary\n",
    "print(model.summary())"
   ]
  },
  {
   "cell_type": "code",
   "execution_count": 15,
   "id": "f1ebb8e3",
   "metadata": {},
   "outputs": [
    {
     "name": "stdout",
     "output_type": "stream",
     "text": [
      "\n",
      "=== MODEL INTERPRETATION ===\n",
      "\n",
      "R² = 0.327\n",
      "❌ Weak model fit: Explains little variance. Review your model.\n",
      "\n",
      "Coefficients:\n",
      "- const: Coef = 60.8044, p = 0.0000 → ✔️ Significant (p < 0.05)\n",
      "- dic_micromol_kg: Coef = -0.0155, p = 0.0000 → ✔️ Significant (p < 0.05)\n",
      "\n",
      "Slope (dic_micromol_kg): -0.0155, p = 0.0000 → ✔️ Significant\n",
      "\n",
      "Standard Error of the model: 11.1923\n"
     ]
    }
   ],
   "source": [
    "print(\"\\n=== MODEL INTERPRETATION ===\\n\")\n",
    "\n",
    "# R-squared and fit quality\n",
    "r2 = model.rsquared\n",
    "fit_quality = (\n",
    "    \"✔️ Good model fit: Explains most of the variance.\" if r2 >= 0.7 else\n",
    "    \"⚠️ Moderate model fit: Explains part of the variance.\" if r2 >= 0.4 else\n",
    "    \"❌ Weak model fit: Explains little variance. Review your model.\"\n",
    ")\n",
    "print(f\"R² = {r2:.3f}\\n{fit_quality}\")\n",
    "\n",
    "# Coefficients and p-values\n",
    "results = model.summary2().tables[1]\n",
    "slope_var = results.index.drop('const')[0]  # Assuming one predictor\n",
    "\n",
    "print(\"\\nCoefficients:\")\n",
    "for var, row in results.iterrows():\n",
    "    coef, pval = row['Coef.'], row['P>|t|']\n",
    "    significance = \"✔️ Significant (p < 0.05)\" if pval < 0.05 else \"⚠️ Not significant (p ≥ 0.05)\"\n",
    "    print(f\"- {var}: Coef = {coef:.4f}, p = {pval:.4f} → {significance}\")\n",
    "\n",
    "# Slope interpretation\n",
    "slope_coef, slope_pval = results.loc[slope_var, ['Coef.', 'P>|t|']]\n",
    "print(f\"\\nSlope ({slope_var}): {slope_coef:.4f}, p = {slope_pval:.4f} → \"\n",
    "      f\"{'✔️ Significant' if slope_pval < 0.05 else '⚠️ Not significant'}\")\n",
    "\n",
    "# Standard Error\n",
    "print(f\"\\nStandard Error of the model: {np.sqrt(model.scale):.4f}\")"
   ]
  }
 ],
 "metadata": {
  "kernelspec": {
   "display_name": "base",
   "language": "python",
   "name": "python3"
  },
  "language_info": {
   "codemirror_mode": {
    "name": "ipython",
    "version": 3
   },
   "file_extension": ".py",
   "mimetype": "text/x-python",
   "name": "python",
   "nbconvert_exporter": "python",
   "pygments_lexer": "ipython3",
   "version": "3.11.5"
  }
 },
 "nbformat": 4,
 "nbformat_minor": 5
}
