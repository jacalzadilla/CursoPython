{
 "cells": [
  {
   "cell_type": "code",
   "execution_count": 1,
   "id": "b63f7be9",
   "metadata": {},
   "outputs": [],
   "source": [
    "import pandas as pd\n",
    "import numpy as np\n",
    "#from scipy.stats import shapiro, mannwhitneyu, kruskal\n",
    "import seaborn as sns\n",
    "import matplotlib.pyplot as plt\n",
    "import os\n",
    "#import scikit_posthocs as sp\n",
    "from scipy import stats\n",
    "#import statsmodels.api as sm\n",
    "#import numpy as np"
   ]
  },
  {
   "cell_type": "code",
   "execution_count": 2,
   "id": "40c8a2e3",
   "metadata": {},
   "outputs": [],
   "source": [
    "path=os.getcwd()\n",
    "data_path = os.path.join(path, 'data')\n",
    "df=pd.read_csv(os.path.join(data_path, 'Terminos_lagoon_TA_DIC_2023_RawData.csv'))\n",
    "\n",
    "columnas=[df.columns]"
   ]
  },
  {
   "cell_type": "code",
   "execution_count": 3,
   "id": "20b976c0",
   "metadata": {},
   "outputs": [],
   "source": [
    "def spearman_test(x, y, alpha=0.05):\n",
    "    if len(x) != len(y):\n",
    "        raise ValueError(\"The lengths of x and y must be the same.\")\n",
    "    \n",
    "    coef, p = stats.spearmanr(x, y)\n",
    "    print(f\"Spearman correlation coefficient: {coef}\")\n",
    "    print(f\"p-value: {p}\")\n",
    "    if p < alpha:\n",
    "        print(\"Reject the null hypothesis: There is a significant correlation between the variables.\")\n",
    "    else:\n",
    "        print(\"Fail to reject the null hypothesis: There is no significant correlation between the variables.\")\n",
    "\n",
    "    if coef > 0:\n",
    "        print(\"The correlation is positive.\")\n",
    "    elif coef < 0:\n",
    "        print(\"The correlation is negative.\")\n",
    "    return coef, p"
   ]
  },
  {
   "cell_type": "code",
   "execution_count": 4,
   "id": "b7a0c7a2",
   "metadata": {},
   "outputs": [
    {
     "name": "stdout",
     "output_type": "stream",
     "text": [
      "Spearman correlation coefficient: 0.838432083847804\n",
      "p-value: 3.572218773508225e-29\n",
      "Reject the null hypothesis: There is a significant correlation between the variables.\n",
      "The correlation is positive.\n"
     ]
    }
   ],
   "source": [
    "test_spearman = spearman_test(df['ta_micromol_kg'], df['dic_micromol_kg'])"
   ]
  },
  {
   "cell_type": "markdown",
   "id": "a0731653",
   "metadata": {},
   "source": [
    "### Respuesta de la tarea"
   ]
  },
  {
   "cell_type": "code",
   "execution_count": 5,
   "id": "104596dc",
   "metadata": {},
   "outputs": [],
   "source": [
    "def pearson_test(x, y, alpha=0.05):\n",
    "    if len(x) != len(y):\n",
    "        raise ValueError(\"The lengths of x and y must be the same.\")\n",
    "\n",
    "    coef, p = stats.pearsonr(x, y)\n",
    "    print(f\"Pearson correlation coefficient: {coef}\")\n",
    "    print(f\"p-value: {p}\")\n",
    "    if p < alpha:\n",
    "        print(\"Reject the null hypothesis: There is a significant correlation between the variables.\")\n",
    "    else:\n",
    "        print(\"Fail to reject the null hypothesis: There is no significant correlation between the variables.\")\n",
    "\n",
    "    if coef > 0:\n",
    "        print(\"The correlation is positive.\")\n",
    "    elif coef < 0:\n",
    "        print(\"The correlation is negative.\")\n",
    "    return coef, p"
   ]
  },
  {
   "cell_type": "code",
   "execution_count": 6,
   "id": "6c596f1d",
   "metadata": {},
   "outputs": [
    {
     "name": "stdout",
     "output_type": "stream",
     "text": [
      "Pearson correlation coefficient: 0.8822837984862446\n",
      "p-value: 8.179416835112241e-36\n",
      "Reject the null hypothesis: There is a significant correlation between the variables.\n",
      "The correlation is positive.\n"
     ]
    },
    {
     "data": {
      "text/plain": [
       "(0.8822837984862446, 8.179416835112241e-36)"
      ]
     },
     "execution_count": 6,
     "metadata": {},
     "output_type": "execute_result"
    }
   ],
   "source": [
    "pearson_test(df['ta_micromol_kg'], df['dic_micromol_kg'])"
   ]
  }
 ],
 "metadata": {
  "kernelspec": {
   "display_name": "base",
   "language": "python",
   "name": "python3"
  },
  "language_info": {
   "codemirror_mode": {
    "name": "ipython",
    "version": 3
   },
   "file_extension": ".py",
   "mimetype": "text/x-python",
   "name": "python",
   "nbconvert_exporter": "python",
   "pygments_lexer": "ipython3",
   "version": "3.11.5"
  }
 },
 "nbformat": 4,
 "nbformat_minor": 5
}
