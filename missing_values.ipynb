{
 "cells": [
  {
   "cell_type": "code",
   "execution_count": null,
   "id": "9629ab03",
   "metadata": {},
   "outputs": [],
   "source": [
    "import pandas as pd\n",
    "import os"
   ]
  },
  {
   "cell_type": "code",
   "execution_count": null,
   "id": "09c4209e",
   "metadata": {},
   "outputs": [],
   "source": [
    "path=os.getcwd()\n",
    "data_path = os.path.join(path, 'data')\n",
    "df=pd.read_csv(os.path.join(data_path, 'Terminos_lagoon_TA_DIC_2023_RawData.csv'))\n",
    "df.head()"
   ]
  },
  {
   "cell_type": "code",
   "execution_count": null,
   "id": "8e423a68",
   "metadata": {},
   "outputs": [],
   "source": [
    "df.shape"
   ]
  },
  {
   "cell_type": "code",
   "execution_count": null,
   "id": "e1470c8f",
   "metadata": {},
   "outputs": [],
   "source": [
    "df.info()"
   ]
  },
  {
   "cell_type": "code",
   "execution_count": null,
   "id": "8dbdeb25",
   "metadata": {},
   "outputs": [],
   "source": [
    "df.describe()"
   ]
  },
  {
   "cell_type": "code",
   "execution_count": null,
   "id": "da4a3170",
   "metadata": {},
   "outputs": [],
   "source": [
    "df.isnull().sum()"
   ]
  },
  {
   "cell_type": "markdown",
   "id": "ae7b0c7d",
   "metadata": {},
   "source": [
    "### Filling holes in data"
   ]
  },
  {
   "cell_type": "code",
   "execution_count": null,
   "id": "bb125c48",
   "metadata": {},
   "outputs": [],
   "source": [
    "df_fill=df.copy()\n",
    "df_fill=df_fill.fillna(method='ffill')\n",
    "df_fill.isnull().sum()\n"
   ]
  },
  {
   "cell_type": "markdown",
   "id": "ab14a1aa",
   "metadata": {},
   "source": [
    "### Interpolation for filling missing values"
   ]
  },
  {
   "cell_type": "code",
   "execution_count": null,
   "id": "ab506223",
   "metadata": {},
   "outputs": [],
   "source": [
    "df_fill_linear = df.copy()\n",
    "df_fill_linear = df_fill_linear.interpolate(method='linear')\n",
    "df_fill_linear.isnull().sum()\n"
   ]
  },
  {
   "cell_type": "markdown",
   "id": "afa47e3f",
   "metadata": {},
   "source": [
    "### Excercises"
   ]
  },
  {
   "cell_type": "code",
   "execution_count": null,
   "id": "96ffa100",
   "metadata": {},
   "outputs": [],
   "source": [
    "df_excersice=df.copy()\n",
    "print(df_excersice.columns)\n",
    "df_excersice['TA_DIC_ratio'] = df_excersice['ta_micromol_kg'] / df_excersice['dic_micromol_kg']  # Calcular la relación"
   ]
  },
  {
   "cell_type": "code",
   "execution_count": 19,
   "id": "074ff920",
   "metadata": {},
   "outputs": [],
   "source": [
    "result_season=df_excersice.groupby(['season'])['TA_DIC_ratio'].agg(['mean', 'std']).reset_index()\n",
    "result_season_area = df_excersice.groupby(['season', 'area'])['TA_DIC_ratio'].agg(['mean', 'std']).reset_index()\n",
    "\n",
    "result_season_area.to_excel(os.path.join(path,'output','TA_DIC_Season_Areas.xlsx'), index=False)"
   ]
  }
 ],
 "metadata": {
  "kernelspec": {
   "display_name": "base",
   "language": "python",
   "name": "python3"
  },
  "language_info": {
   "codemirror_mode": {
    "name": "ipython",
    "version": 3
   },
   "file_extension": ".py",
   "mimetype": "text/x-python",
   "name": "python",
   "nbconvert_exporter": "python",
   "pygments_lexer": "ipython3",
   "version": "3.11.5"
  }
 },
 "nbformat": 4,
 "nbformat_minor": 5
}
