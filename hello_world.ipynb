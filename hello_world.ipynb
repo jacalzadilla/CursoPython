{
 "cells": [
  {
   "cell_type": "markdown",
   "id": "e9f1b089",
   "metadata": {},
   "source": [
    "## Mi primer programa"
   ]
  },
  {
   "cell_type": "markdown",
   "id": "4450a62a",
   "metadata": {},
   "source": [
    "### segunda línea"
   ]
  },
  {
   "cell_type": "code",
   "execution_count": 2,
   "id": "34985f1c",
   "metadata": {},
   "outputs": [
    {
     "name": "stdout",
     "output_type": "stream",
     "text": [
      "hello world\n"
     ]
    }
   ],
   "source": [
    "print('hello world')"
   ]
  },
  {
   "cell_type": "code",
   "execution_count": 3,
   "id": "5c1a2047",
   "metadata": {},
   "outputs": [],
   "source": [
    "a=2\n",
    "b=5"
   ]
  },
  {
   "cell_type": "code",
   "execution_count": 4,
   "id": "fef23a7d",
   "metadata": {},
   "outputs": [],
   "source": [
    "c=a+b"
   ]
  },
  {
   "cell_type": "code",
   "execution_count": 5,
   "id": "a0341888",
   "metadata": {},
   "outputs": [
    {
     "name": "stdout",
     "output_type": "stream",
     "text": [
      "7\n"
     ]
    }
   ],
   "source": [
    "print(c)"
   ]
  },
  {
   "cell_type": "code",
   "execution_count": null,
   "id": "bf15712f",
   "metadata": {},
   "outputs": [],
   "source": []
  }
 ],
 "metadata": {
  "kernelspec": {
   "display_name": "base",
   "language": "python",
   "name": "python3"
  },
  "language_info": {
   "codemirror_mode": {
    "name": "ipython",
    "version": 3
   },
   "file_extension": ".py",
   "mimetype": "text/x-python",
   "name": "python",
   "nbconvert_exporter": "python",
   "pygments_lexer": "ipython3",
   "version": "3.11.5"
  }
 },
 "nbformat": 4,
 "nbformat_minor": 5
}
