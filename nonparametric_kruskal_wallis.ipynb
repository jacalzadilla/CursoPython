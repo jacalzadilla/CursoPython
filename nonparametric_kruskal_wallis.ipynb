{
 "cells": [
  {
   "cell_type": "markdown",
   "id": "26180503",
   "metadata": {},
   "source": [
    "## Kruskal-Wallis Test"
   ]
  },
  {
   "cell_type": "code",
   "execution_count": 2,
   "id": "ac03c969",
   "metadata": {},
   "outputs": [],
   "source": [
    "import pandas as pd\n",
    "import numpy as np\n",
    "from scipy.stats import shapiro, mannwhitneyu, kruskal\n",
    "import seaborn as sns\n",
    "import matplotlib.pyplot as plt\n",
    "import os\n",
    "import scikit_posthocs as sp"
   ]
  },
  {
   "cell_type": "code",
   "execution_count": 3,
   "id": "4f8bd62d",
   "metadata": {},
   "outputs": [],
   "source": [
    "path=os.getcwd()\n",
    "data_path = os.path.join(path, 'data')\n",
    "df=pd.read_csv(os.path.join(data_path, 'Terminos_lagoon_TA_DIC_2023_RawData.csv'))\n",
    "\n",
    "columnas=[df.columns]"
   ]
  },
  {
   "cell_type": "code",
   "execution_count": 4,
   "id": "7fb99666",
   "metadata": {},
   "outputs": [],
   "source": [
    "def kruskal_wallis_test(data, group_col, value_col, alpha=0.05):\n",
    "    groups = [group[value_col].values for name, group in data.groupby(group_col)]\n",
    "    result = kruskal(*groups)\n",
    "\n",
    "    print(f'Statistic: {result.statistic}, p-value: {result.pvalue}')\n",
    "    if result.pvalue < alpha:\n",
    "        print(\"Reject the null hypothesis: The two groups have different distributions.\")\n",
    "    else:\n",
    "        print(\"Fail to reject the null hypothesis: The two groups have similar distributions.\")"
   ]
  },
  {
   "cell_type": "code",
   "execution_count": 5,
   "id": "c68acb01",
   "metadata": {},
   "outputs": [],
   "source": [
    "def dunn_posthoc(data, group_col, value_col, alpha=0.05):\n",
    "    posthoc = sp.posthoc_dunn(data, val_col=value_col, group_col=group_col, p_adjust='bonferroni')\n",
    "    print(posthoc)\n",
    "    return posthoc"
   ]
  },
  {
   "cell_type": "code",
   "execution_count": 6,
   "id": "fcd35e3c",
   "metadata": {},
   "outputs": [
    {
     "data": {
      "image/png": "[encoded data removed]",
      "text/plain": [
       "<Figure size 640x480 with 1 Axes>"
      ]
     },
     "metadata": {},
     "output_type": "display_data"
    }
   ],
   "source": [
    "sns.boxplot(x='area', y='ta_micromol_kg', data=df)\n",
    "plt.title('Boxplot of TA by Area of the Lagoon')\n",
    "plt.xlabel('Area of the Lagoon')\n",
    "plt.ylabel('TA (µmol/kg)')  \n",
    "plt.show()"
   ]
  },
  {
   "cell_type": "code",
   "execution_count": 7,
   "id": "5c0324c5",
   "metadata": {},
   "outputs": [],
   "source": [
    "ta_river = df[df['area'] == 'River']['ta_micromol_kg']\n",
    "ta_plume = df[df['area'] == 'Plume']['ta_micromol_kg']\n",
    "ta_coast = df[df['area'] == 'Coast']['ta_micromol_kg']"
   ]
  },
  {
   "cell_type": "code",
   "execution_count": null,
   "id": "3990e365",
   "metadata": {},
   "outputs": [
    {
     "name": "stdout",
     "output_type": "stream",
     "text": [
      "Statistic: 23.340675555846637, p-value: 8.543517259038796e-06\n",
      "Reject the null hypothesis: The two groups have different distributions.\n"
     ]
    }
   ],
   "source": [
    "kruskal_wallis_test(df, 'area', 'ta_micromol_kg')"
   ]
  },
  {
   "cell_type": "code",
   "execution_count": 10,
   "id": "0508a104",
   "metadata": {},
   "outputs": [
    {
     "name": "stdout",
     "output_type": "stream",
     "text": [
      "          Coast     Plume     River\n",
      "Coast  1.000000  1.000000  0.000016\n",
      "Plume  1.000000  1.000000  0.000659\n",
      "River  0.000016  0.000659  1.000000\n"
     ]
    },
    {
     "data": {
      "application/vnd.microsoft.datawrangler.viewer.v0+json": {
       "columns": [
        {
         "name": "index",
         "rawType": "object",
         "type": "string"
        },
        {
         "name": "Coast",
         "rawType": "float64",
         "type": "float"
        },
        {
         "name": "Plume",
         "rawType": "float64",
         "type": "float"
        },
        {
         "name": "River",
         "rawType": "float64",
         "type": "float"
        }
       ],
       "ref": "b212bb95-98b8-4922-b546-c3519fdd40e8",
       "rows": [
        [
         "Coast",
         "1.0",
         "1.0",
         "1.6135061624877026e-05"
        ],
        [
         "Plume",
         "1.0",
         "1.0",
         "0.0006588029979940648"
        ],
        [
         "River",
         "1.6135061624877026e-05",
         "0.0006588029979940648",
         "1.0"
        ]
       ],
       "shape": {
        "columns": 3,
        "rows": 3
       }
      },
      "text/html": [
       "<div>\n",
       "<style scoped>\n",
       "    .dataframe tbody tr th:only-of-type {\n",
       "        vertical-align: middle;\n",
       "    }\n",
       "\n",
       "    .dataframe tbody tr th {\n",
       "        vertical-align: top;\n",
       "    }\n",
       "\n",
       "    .dataframe thead th {\n",
       "        text-align: right;\n",
       "    }\n",
       "</style>\n",
       "<table border=\"1\" class=\"dataframe\">\n",
       "  <thead>\n",
       "    <tr style=\"text-align: right;\">\n",
       "      <th></th>\n",
       "      <th>Coast</th>\n",
       "      <th>Plume</th>\n",
       "      <th>River</th>\n",
       "    </tr>\n",
       "  </thead>\n",
       "  <tbody>\n",
       "    <tr>\n",
       "      <th>Coast</th>\n",
       "      <td>1.000000</td>\n",
       "      <td>1.000000</td>\n",
       "      <td>0.000016</td>\n",
       "    </tr>\n",
       "    <tr>\n",
       "      <th>Plume</th>\n",
       "      <td>1.000000</td>\n",
       "      <td>1.000000</td>\n",
       "      <td>0.000659</td>\n",
       "    </tr>\n",
       "    <tr>\n",
       "      <th>River</th>\n",
       "      <td>0.000016</td>\n",
       "      <td>0.000659</td>\n",
       "      <td>1.000000</td>\n",
       "    </tr>\n",
       "  </tbody>\n",
       "</table>\n",
       "</div>"
      ],
      "text/plain": [
       "          Coast     Plume     River\n",
       "Coast  1.000000  1.000000  0.000016\n",
       "Plume  1.000000  1.000000  0.000659\n",
       "River  0.000016  0.000659  1.000000"
      ]
     },
     "execution_count": 10,
     "metadata": {},
     "output_type": "execute_result"
    }
   ],
   "source": [
    "dunn_posthoc(df, 'area', 'ta_micromol_kg')"
   ]
  },
  {
   "cell_type": "markdown",
   "id": "0adf8c82",
   "metadata": {},
   "source": [
    "## Respuesta de la tarea"
   ]
  },
  {
   "cell_type": "code",
   "execution_count": 11,
   "id": "c8730c84",
   "metadata": {},
   "outputs": [
    {
     "data": {
      "image/png": "[encoded data removed]",
      "text/plain": [
       "<Figure size 640x480 with 1 Axes>"
      ]
     },
     "metadata": {},
     "output_type": "display_data"
    }
   ],
   "source": [
    "sns.boxplot(x='area', y='dic_micromol_kg', data=df)\n",
    "plt.title('Boxplot of DIC by Area of the Lagoon')\n",
    "plt.xlabel('Area of the Lagoon')\n",
    "plt.ylabel('DIC (µmol/kg)')  \n",
    "plt.show()"
   ]
  },
  {
   "cell_type": "code",
   "execution_count": 12,
   "id": "8defc67d",
   "metadata": {},
   "outputs": [],
   "source": [
    "dic_river = df[df['area'] == 'River']['dic_micromol_kg']\n",
    "dic_plume = df[df['area'] == 'Plume']['dic_micromol_kg']\n",
    "dic_coast = df[df['area'] == 'Coast']['dic_micromol_kg']"
   ]
  },
  {
   "cell_type": "code",
   "execution_count": 14,
   "id": "54b11b4c",
   "metadata": {},
   "outputs": [
    {
     "name": "stdout",
     "output_type": "stream",
     "text": [
      "Statistic: 55.889669058187486, p-value: 7.306553461098262e-13\n",
      "Reject the null hypothesis: The two groups have different distributions.\n"
     ]
    }
   ],
   "source": [
    "kruskal_wallis_test(df, 'area', 'dic_micromol_kg')"
   ]
  },
  {
   "cell_type": "code",
   "execution_count": 13,
   "id": "f301b393",
   "metadata": {},
   "outputs": [
    {
     "name": "stdout",
     "output_type": "stream",
     "text": [
      "              Coast     Plume         River\n",
      "Coast  1.000000e+00  0.063144  7.204720e-13\n",
      "Plume  6.314392e-02  1.000000  1.885873e-06\n",
      "River  7.204720e-13  0.000002  1.000000e+00\n"
     ]
    },
    {
     "data": {
      "application/vnd.microsoft.datawrangler.viewer.v0+json": {
       "columns": [
        {
         "name": "index",
         "rawType": "object",
         "type": "string"
        },
        {
         "name": "Coast",
         "rawType": "float64",
         "type": "float"
        },
        {
         "name": "Plume",
         "rawType": "float64",
         "type": "float"
        },
        {
         "name": "River",
         "rawType": "float64",
         "type": "float"
        }
       ],
       "ref": "683dd5a1-a80e-476a-84e4-a6126c70dbaa",
       "rows": [
        [
         "Coast",
         "1.0",
         "0.06314391842749771",
         "7.204719560883086e-13"
        ],
        [
         "Plume",
         "0.06314391842749771",
         "1.0",
         "1.885872912149332e-06"
        ],
        [
         "River",
         "7.204719560883086e-13",
         "1.885872912149332e-06",
         "1.0"
        ]
       ],
       "shape": {
        "columns": 3,
        "rows": 3
       }
      },
      "text/html": [
       "<div>\n",
       "<style scoped>\n",
       "    .dataframe tbody tr th:only-of-type {\n",
       "        vertical-align: middle;\n",
       "    }\n",
       "\n",
       "    .dataframe tbody tr th {\n",
       "        vertical-align: top;\n",
       "    }\n",
       "\n",
       "    .dataframe thead th {\n",
       "        text-align: right;\n",
       "    }\n",
       "</style>\n",
       "<table border=\"1\" class=\"dataframe\">\n",
       "  <thead>\n",
       "    <tr style=\"text-align: right;\">\n",
       "      <th></th>\n",
       "      <th>Coast</th>\n",
       "      <th>Plume</th>\n",
       "      <th>River</th>\n",
       "    </tr>\n",
       "  </thead>\n",
       "  <tbody>\n",
       "    <tr>\n",
       "      <th>Coast</th>\n",
       "      <td>1.000000e+00</td>\n",
       "      <td>0.063144</td>\n",
       "      <td>7.204720e-13</td>\n",
       "    </tr>\n",
       "    <tr>\n",
       "      <th>Plume</th>\n",
       "      <td>6.314392e-02</td>\n",
       "      <td>1.000000</td>\n",
       "      <td>1.885873e-06</td>\n",
       "    </tr>\n",
       "    <tr>\n",
       "      <th>River</th>\n",
       "      <td>7.204720e-13</td>\n",
       "      <td>0.000002</td>\n",
       "      <td>1.000000e+00</td>\n",
       "    </tr>\n",
       "  </tbody>\n",
       "</table>\n",
       "</div>"
      ],
      "text/plain": [
       "              Coast     Plume         River\n",
       "Coast  1.000000e+00  0.063144  7.204720e-13\n",
       "Plume  6.314392e-02  1.000000  1.885873e-06\n",
       "River  7.204720e-13  0.000002  1.000000e+00"
      ]
     },
     "execution_count": 13,
     "metadata": {},
     "output_type": "execute_result"
    }
   ],
   "source": [
    "dunn_posthoc(df, 'area', 'dic_micromol_kg')"
   ]
  }
 ],
 "metadata": {
  "kernelspec": {
   "display_name": "base",
   "language": "python",
   "name": "python3"
  },
  "language_info": {
   "codemirror_mode": {
    "name": "ipython",
    "version": 3
   },
   "file_extension": ".py",
   "mimetype": "text/x-python",
   "name": "python",
   "nbconvert_exporter": "python",
   "pygments_lexer": "ipython3",
   "version": "3.11.5"
  }
 },
 "nbformat": 4,
 "nbformat_minor": 5
}
