{
 "cells": [
  {
   "cell_type": "markdown",
   "id": "170c2e30",
   "metadata": {},
   "source": [
    "## Normality test"
   ]
  },
  {
   "cell_type": "code",
   "execution_count": 4,
   "id": "d8afd361",
   "metadata": {},
   "outputs": [],
   "source": [
    "import pandas as pd\n",
    "import numpy as np\n",
    "from scipy.stats import shapiro\n",
    "import os"
   ]
  },
  {
   "cell_type": "code",
   "execution_count": 5,
   "id": "8bee09c0",
   "metadata": {},
   "outputs": [],
   "source": [
    "path=os.getcwd()\n",
    "data_path = os.path.join(path, 'data')\n",
    "df=pd.read_csv(os.path.join(data_path, 'Terminos_lagoon_TA_DIC_2023_RawData.csv'))"
   ]
  },
  {
   "cell_type": "code",
   "execution_count": 8,
   "id": "ff0a57e4",
   "metadata": {},
   "outputs": [
    {
     "name": "stdout",
     "output_type": "stream",
     "text": [
      "Statistics=0.880, p=0.000\n",
      "Sample does not look Gaussian (reject H0)\n"
     ]
    }
   ],
   "source": [
    "ta=df['ta_micromol_kg']\n",
    "stat, p = shapiro(ta)\n",
    "print('Statistics=%.3f, p=%.3f' % (stat, p))\n",
    "\n",
    "if p > 0.05:\n",
    "    print('Sample looks Gaussian (fail to reject H0)')  \n",
    "else:\n",
    "    print('Sample does not look Gaussian (reject H0)')\n",
    "    "
   ]
  },
  {
   "cell_type": "markdown",
   "id": "8174c0bf",
   "metadata": {},
   "source": [
    "## Respuesta de la tarea"
   ]
  },
  {
   "cell_type": "markdown",
   "id": "334fe4f3",
   "metadata": {},
   "source": [
    "### El test de Shapiro-Wilk está diseñado específicamente para evaluar la normalidad de los datos y resulta más potente en muestras pequeñas o moderadas (usualmente menores a 2000 observaciones), por lo que suele ser la opción preferida cuando el objetivo es verificar si una muestra sigue una distribución normal. En cambio, el test de Kolmogorov-Smirnov (K-S) es más general, ya que permite contrastar los datos con cualquier distribución teórica especificada, no solo la normal, aunque es menos sensible para detectar desviaciones de normalidad. Por ello, el K-S es más apropiado cuando se desea comprobar el ajuste a distribuciones distintas de la normal, cuando se trabaja con muestras muy grandes o cuando se busca aplicar una prueba no paramétrica de bondad de ajuste en sentido amplio.\n"
   ]
  },
  {
   "cell_type": "code",
   "execution_count": 10,
   "id": "ea23c42e",
   "metadata": {},
   "outputs": [
    {
     "name": "stdout",
     "output_type": "stream",
     "text": [
      "Statistics=0.860, p=0.000\n",
      "Sample does not look Gaussian (reject H0)\n"
     ]
    }
   ],
   "source": [
    "DIC=df['dic_micromol_kg']\n",
    "\n",
    "stat, p = shapiro(DIC)\n",
    "print('Statistics=%.3f, p=%.3f' % (stat, p))\n",
    "\n",
    "if p > 0.05:\n",
    "    print('Sample looks Gaussian (fail to reject H0)')  \n",
    "else:\n",
    "    print('Sample does not look Gaussian (reject H0)')"
   ]
  },
  {
   "cell_type": "code",
   "execution_count": 11,
   "id": "a8773448",
   "metadata": {},
   "outputs": [
    {
     "name": "stdout",
     "output_type": "stream",
     "text": [
      "Statistics=0.887, p=0.000\n",
      "Sample does not look Gaussian (reject H0)\n"
     ]
    }
   ],
   "source": [
    "salinity=df['sal_psu']\n",
    "\n",
    "stat, p = shapiro(salinity)\n",
    "print('Statistics=%.3f, p=%.3f' % (stat, p))\n",
    "if p > 0.05:\n",
    "    print('Sample looks Gaussian (fail to reject H0)')\n",
    "else:\n",
    "    print('Sample does not look Gaussian (reject H0)')\n",
    "\n",
    "    "
   ]
  }
 ],
 "metadata": {
  "kernelspec": {
   "display_name": "base",
   "language": "python",
   "name": "python3"
  },
  "language_info": {
   "codemirror_mode": {
    "name": "ipython",
    "version": 3
   },
   "file_extension": ".py",
   "mimetype": "text/x-python",
   "name": "python",
   "nbconvert_exporter": "python",
   "pygments_lexer": "ipython3",
   "version": "3.11.5"
  }
 },
 "nbformat": 4,
 "nbformat_minor": 5
}
