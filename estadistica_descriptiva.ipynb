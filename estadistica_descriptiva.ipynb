{
 "cells": [
  {
   "cell_type": "markdown",
   "id": "6f0308ff",
   "metadata": {},
   "source": [
    "## Estadística Descriptviva"
   ]
  },
  {
   "cell_type": "code",
   "execution_count": 1,
   "id": "9520604f",
   "metadata": {},
   "outputs": [],
   "source": [
    "import os\n",
    "import sys\n",
    "import pandas as pd"
   ]
  },
  {
   "cell_type": "markdown",
   "id": "429cf92f",
   "metadata": {},
   "source": [
    "### Lectura de archivo de oleaje y viento del ERA5 para Isla Mujeres"
   ]
  },
  {
   "cell_type": "code",
   "execution_count": 2,
   "id": "367768b7",
   "metadata": {},
   "outputs": [],
   "source": [
    "path=os.getcwd()\n",
    "df=pd.read_csv(os.path.join(path,'data', 'ERA5_anual.csv'))"
   ]
  },
  {
   "cell_type": "code",
   "execution_count": 3,
   "id": "1a0749e0",
   "metadata": {},
   "outputs": [
    {
     "data": {
      "text/plain": [
       "Index(['time', 'u10', 'v10', 'mwd', 'mwp', 'swh'], dtype='object')"
      ]
     },
     "execution_count": 3,
     "metadata": {},
     "output_type": "execute_result"
    }
   ],
   "source": [
    "df.columns"
   ]
  },
  {
   "cell_type": "code",
   "execution_count": 4,
   "id": "e4cd7dc1",
   "metadata": {},
   "outputs": [],
   "source": [
    "hs=df['swh']\n"
   ]
  },
  {
   "cell_type": "code",
   "execution_count": 5,
   "id": "33871f71",
   "metadata": {},
   "outputs": [
    {
     "data": {
      "application/vnd.microsoft.datawrangler.viewer.v0+json": {
       "columns": [
        {
         "name": "index",
         "rawType": "object",
         "type": "string"
        },
        {
         "name": "swh",
         "rawType": "float64",
         "type": "float"
        },
        {
         "name": "mwd",
         "rawType": "float64",
         "type": "float"
        }
       ],
       "ref": "f6c18892-7996-4e40-b971-ba0a043c7d90",
       "rows": [
        [
         "count",
         "128320.0",
         "128320.0"
        ],
        [
         "mean",
         "1.1369701024290957",
         "99.96490009579969"
        ],
        [
         "std",
         "0.46845009559435635",
         "53.022324247202455"
        ],
        [
         "min",
         "0.21165007352829",
         "0.0011530627962201"
        ],
        [
         "25%",
         "0.8269046863016234",
         "76.51021390289866"
        ],
        [
         "50%",
         "1.0498501425025326",
         "102.33413165940334"
        ],
        [
         "75%",
         "1.3444808014102723",
         "117.59242581072346"
        ],
        [
         "max",
         "10.915509223937988",
         "359.995361328125"
        ]
       ],
       "shape": {
        "columns": 2,
        "rows": 8
       }
      },
      "text/html": [
       "<div>\n",
       "<style scoped>\n",
       "    .dataframe tbody tr th:only-of-type {\n",
       "        vertical-align: middle;\n",
       "    }\n",
       "\n",
       "    .dataframe tbody tr th {\n",
       "        vertical-align: top;\n",
       "    }\n",
       "\n",
       "    .dataframe thead th {\n",
       "        text-align: right;\n",
       "    }\n",
       "</style>\n",
       "<table border=\"1\" class=\"dataframe\">\n",
       "  <thead>\n",
       "    <tr style=\"text-align: right;\">\n",
       "      <th></th>\n",
       "      <th>swh</th>\n",
       "      <th>mwd</th>\n",
       "    </tr>\n",
       "  </thead>\n",
       "  <tbody>\n",
       "    <tr>\n",
       "      <th>count</th>\n",
       "      <td>128320.000000</td>\n",
       "      <td>128320.000000</td>\n",
       "    </tr>\n",
       "    <tr>\n",
       "      <th>mean</th>\n",
       "      <td>1.136970</td>\n",
       "      <td>99.964900</td>\n",
       "    </tr>\n",
       "    <tr>\n",
       "      <th>std</th>\n",
       "      <td>0.468450</td>\n",
       "      <td>53.022324</td>\n",
       "    </tr>\n",
       "    <tr>\n",
       "      <th>min</th>\n",
       "      <td>0.211650</td>\n",
       "      <td>0.001153</td>\n",
       "    </tr>\n",
       "    <tr>\n",
       "      <th>25%</th>\n",
       "      <td>0.826905</td>\n",
       "      <td>76.510214</td>\n",
       "    </tr>\n",
       "    <tr>\n",
       "      <th>50%</th>\n",
       "      <td>1.049850</td>\n",
       "      <td>102.334132</td>\n",
       "    </tr>\n",
       "    <tr>\n",
       "      <th>75%</th>\n",
       "      <td>1.344481</td>\n",
       "      <td>117.592426</td>\n",
       "    </tr>\n",
       "    <tr>\n",
       "      <th>max</th>\n",
       "      <td>10.915509</td>\n",
       "      <td>359.995361</td>\n",
       "    </tr>\n",
       "  </tbody>\n",
       "</table>\n",
       "</div>"
      ],
      "text/plain": [
       "                 swh            mwd\n",
       "count  128320.000000  128320.000000\n",
       "mean        1.136970      99.964900\n",
       "std         0.468450      53.022324\n",
       "min         0.211650       0.001153\n",
       "25%         0.826905      76.510214\n",
       "50%         1.049850     102.334132\n",
       "75%         1.344481     117.592426\n",
       "max        10.915509     359.995361"
      ]
     },
     "execution_count": 5,
     "metadata": {},
     "output_type": "execute_result"
    }
   ],
   "source": [
    "dict_hs_dir=df[['swh', 'mwd']]\n",
    "dict_hs_dir.describe()"
   ]
  },
  {
   "cell_type": "markdown",
   "id": "8a774899",
   "metadata": {},
   "source": [
    "### Reagrupando por eventos de Suradas"
   ]
  },
  {
   "cell_type": "code",
   "execution_count": 6,
   "id": "92b3e6ad",
   "metadata": {},
   "outputs": [],
   "source": [
    "suradas=dict_hs_dir[(dict_hs_dir['mwd'] > 135) & (dict_hs_dir['mwd'] < 225)]\n"
   ]
  },
  {
   "cell_type": "code",
   "execution_count": 9,
   "id": "30213c95",
   "metadata": {},
   "outputs": [
    {
     "data": {
      "text/plain": [
       "<Axes: title={'center': 'Significant Wave Height for South Waves'}, xlabel='Index', ylabel='Significant Wave Height (m)'>"
      ]
     },
     "execution_count": 9,
     "metadata": {},
     "output_type": "execute_result"
    },
    {
     "data": {
      "image/png": "[encoded data removed]",
      "text/plain": [
       "<Figure size 640x480 with 1 Axes>"
      ]
     },
     "metadata": {},
     "output_type": "display_data"
    }
   ],
   "source": [
    "suradas.plot(y='swh', ylabel='Significant Wave Height (m)', xlabel='Index', title='Significant Wave Height for South Waves', marker='o', linestyle='None')"
   ]
  }
 ],
 "metadata": {
  "kernelspec": {
   "display_name": "base",
   "language": "python",
   "name": "python3"
  },
  "language_info": {
   "codemirror_mode": {
    "name": "ipython",
    "version": 3
   },
   "file_extension": ".py",
   "mimetype": "text/x-python",
   "name": "python",
   "nbconvert_exporter": "python",
   "pygments_lexer": "ipython3",
   "version": "3.11.5"
  }
 },
 "nbformat": 4,
 "nbformat_minor": 5
}
