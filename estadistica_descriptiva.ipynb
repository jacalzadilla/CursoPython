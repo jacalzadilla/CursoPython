{
 "cells": [
  {
   "cell_type": "markdown",
   "id": "6f0308ff",
   "metadata": {},
   "source": [
    "## Estadística Descriptviva"
   ]
  },
  {
   "cell_type": "code",
   "execution_count": null,
   "id": "9520604f",
   "metadata": {},
   "outputs": [],
   "source": [
    "import os\n",
    "import sys\n",
    "import pandas as pd"
   ]
  },
  {
   "cell_type": "markdown",
   "id": "429cf92f",
   "metadata": {},
   "source": [
    "### Lectura de archivo de oleaje y viento del ERA5 para Isla Mujeres"
   ]
  },
  {
   "cell_type": "code",
   "execution_count": null,
   "id": "367768b7",
   "metadata": {},
   "outputs": [],
   "source": [
    "path=os.getcwd()\n",
    "df=pd.read_csv(os.path.join(path,'data', 'ERA5_anual.csv'))"
   ]
  },
  {
   "cell_type": "code",
   "execution_count": null,
   "id": "1a0749e0",
   "metadata": {},
   "outputs": [],
   "source": [
    "df.columns"
   ]
  },
  {
   "cell_type": "code",
   "execution_count": null,
   "id": "e4cd7dc1",
   "metadata": {},
   "outputs": [],
   "source": [
    "hs=df['swh']\n"
   ]
  },
  {
   "cell_type": "code",
   "execution_count": null,
   "id": "33871f71",
   "metadata": {},
   "outputs": [],
   "source": [
    "dict_hs_dir=df[['swh', 'mwd']]\n",
    "dict_hs_dir.describe()"
   ]
  },
  {
   "cell_type": "markdown",
   "id": "8a774899",
   "metadata": {},
   "source": [
    "### Reagrupando por eventos de Suradas"
   ]
  },
  {
   "cell_type": "code",
   "execution_count": null,
   "id": "92b3e6ad",
   "metadata": {},
   "outputs": [],
   "source": [
    "suradas=dict_hs_dir[(dict_hs_dir['mwd'] > 135) & (dict_hs_dir['mwd'] < 225)]\n"
   ]
  },
  {
   "cell_type": "code",
   "execution_count": null,
   "id": "30213c95",
   "metadata": {},
   "outputs": [],
   "source": [
    "suradas.plot(y='swh', ylabel='Significant Wave Height (m)', xlabel='Index', title='Significant Wave Height for South Waves', marker='o', linestyle='None')"
   ]
  }
 ],
 "metadata": {
  "kernelspec": {
   "display_name": "base",
   "language": "python",
   "name": "python3"
  },
  "language_info": {
   "codemirror_mode": {
    "name": "ipython",
    "version": 3
   },
   "file_extension": ".py",
   "mimetype": "text/x-python",
   "name": "python",
   "nbconvert_exporter": "python",
   "pygments_lexer": "ipython3",
   "version": "3.11.5"
  }
 },
 "nbformat": 4,
 "nbformat_minor": 5
}
